{
 "cells": [
  {
   "cell_type": "markdown",
   "metadata": {},
   "source": [
    "# Parts-of-Speech Tagging (POS) Using Hidden Markov Models and Dynamic Programming with the Verbati Algorithm"
   ]
  },
  {
   "cell_type": "markdown",
   "metadata": {},
   "source": [
    "# Imports"
   ]
  },
  {
   "cell_type": "code",
   "execution_count": 1,
   "metadata": {},
   "outputs": [],
   "source": [
    "from collections import Counter\n",
    "from pos_tagger import PartsOfSpeechTaggerHMM"
   ]
  },
  {
   "cell_type": "markdown",
   "metadata": {},
   "source": [
    "# Loading Data"
   ]
  },
  {
   "cell_type": "markdown",
   "metadata": {},
   "source": [
    "This Demonstration uses two tagged data sets collected from the **Wall Street Journal (WSJ)**. \n",
    "\n",
    "[Here](http://relearn.be/2015/training-common-sense/sources/software/pattern-2.6-critical-fork/docs/html/mbsp-tags.html) is an example 'tag-set' or Part of Speech designation describing the two or three letter tag and their meaning. \n",
    "- One data set (**WSJ-2_21.pos**) will be used for **training**.\n",
    "- The other (**WSJ-24.pos**) for **testing**. "
   ]
  },
  {
   "cell_type": "code",
   "execution_count": 2,
   "metadata": {},
   "outputs": [],
   "source": [
    "training_corpus_path = \"./data/WSJ_02-21.pos\"\n",
    "test_corpus_path = \"./data/WSJ_24.pos\"\n",
    "\n",
    "def load_data(path, load_word_list = False):\n",
    "  with open(path, 'r') as f:\n",
    "    corpus = f.readlines()\n",
    "\n",
    "  if load_word_list:\n",
    "\n",
    "    word_list = []\n",
    "    for line in corpus:\n",
    "      if line.split(\"\\t\")[0] == \"\\n\":\n",
    "        word_list.append(\"\")\n",
    "\n",
    "      else:\n",
    "        word_list.append(line.split(\"\\t\")[0])\n",
    "\n",
    "    return corpus, word_list\n",
    "\n",
    "  return corpus\n",
    "\n",
    "train_corpus, train_words = load_data(training_corpus_path, load_word_list = True)\n",
    "test_corpus, test_words = load_data(test_corpus_path, load_word_list = True)"
   ]
  },
  {
   "cell_type": "markdown",
   "metadata": {},
   "source": [
    "# Extracting Vocab from Corpus Words"
   ]
  },
  {
   "cell_type": "code",
   "execution_count": 3,
   "metadata": {},
   "outputs": [],
   "source": [
    "def extract_vocab(corpus_words):\n",
    "    vocab = {}\n",
    "    vocab_list= [word if word.strip() else \"--n--\" for word in corpus_words]\n",
    "    vocab_counts= Counter(vocab_list)\n",
    "\n",
    "    voc_l = [word for word in vocab_counts if vocab_counts[word]>1]\n",
    "    voc_l = voc_l + [\"--unk_digit--\",\"--unk_punct--\",\"--unk_upper--\",\"--unk_noun--\",\"--unk_verb--\",\"--unk_adj--\",\"--unk_adv--\",\"--unk--\"]\n",
    "\n",
    "    for i, word in enumerate(sorted(voc_l)): \n",
    "        vocab[word] = i\n",
    "    return vocab\n",
    "\n",
    "vocab = extract_vocab(train_words)"
   ]
  },
  {
   "cell_type": "markdown",
   "metadata": {},
   "source": [
    "# Initializing and Fitting the POS Model"
   ]
  },
  {
   "cell_type": "code",
   "execution_count": 4,
   "metadata": {},
   "outputs": [
    {
     "name": "stdout",
     "output_type": "stream",
     "text": [
      "word count = 50000\n",
      "word count = 100000\n",
      "word count = 150000\n",
      "word count = 200000\n",
      "word count = 250000\n",
      "word count = 300000\n",
      "word count = 350000\n",
      "word count = 400000\n",
      "word count = 450000\n",
      "word count = 500000\n",
      "word count = 550000\n",
      "word count = 600000\n",
      "word count = 650000\n",
      "word count = 700000\n",
      "word count = 750000\n",
      "word count = 800000\n",
      "word count = 850000\n",
      "word count = 900000\n",
      "word count = 950000\n"
     ]
    }
   ],
   "source": [
    "tagger = PartsOfSpeechTaggerHMM()\n",
    "tagger.fit(vocab, train_corpus)"
   ]
  },
  {
   "cell_type": "markdown",
   "metadata": {},
   "source": [
    "# Predicting POS and Calculating Accuracy"
   ]
  },
  {
   "cell_type": "code",
   "execution_count": 5,
   "metadata": {},
   "outputs": [
    {
     "name": "stdout",
     "output_type": "stream",
     "text": [
      "Words processed:     5000\n",
      "Words processed:    10000\n",
      "Words processed:    15000\n",
      "Words processed:    20000\n",
      "Words processed:    25000\n",
      "Words processed:    30000\n",
      "Accuracy of the Viterbi algorithm is 0.9545\n"
     ]
    }
   ],
   "source": [
    "predictions = tagger.predict_pos(test_words, test_corpus)"
   ]
  }
 ],
 "metadata": {
  "kernelspec": {
   "display_name": "Python 3",
   "language": "python",
   "name": "python3"
  },
  "language_info": {
   "codemirror_mode": {
    "name": "ipython",
    "version": 3
   },
   "file_extension": ".py",
   "mimetype": "text/x-python",
   "name": "python",
   "nbconvert_exporter": "python",
   "pygments_lexer": "ipython3",
   "version": "3.11.5"
  }
 },
 "nbformat": 4,
 "nbformat_minor": 2
}
